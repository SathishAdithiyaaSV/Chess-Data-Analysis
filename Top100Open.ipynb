{
 "cells": [
  {
   "cell_type": "code",
   "execution_count": 7,
   "metadata": {},
   "outputs": [],
   "source": [
    "from selenium import webdriver\n",
    "from selenium.webdriver.common.by import By\n",
    "import csv\n",
    "driver = webdriver.Chrome()  # You need to have chromedriver installed and in your PATH\n",
    "\n",
    "# URL of the website to scrape\n",
    "url = 'https://ratings.fide.com/top_lists.phtml'\n",
    "\n",
    "# Load the webpage\n",
    "driver.get(url)\n",
    "table = driver.find_element(By.XPATH, \"//*[@id='div_output']/table/tbody\")\n",
    "rows = table.find_elements(By.TAG_NAME, \"tr\")\n",
    "with open(\"sample.csv\",\"w\",newline=\"\") as file:\n",
    "    writer = csv.writer(file)\n",
    "    for r in rows:\n",
    "        data=r.find_elements(By.CSS_SELECTOR,\"td,th\")\n",
    "        row_data=[]\n",
    "        for d in data:\n",
    "            row_data.append(d.text)\n",
    "        writer.writerow(row_data)\n",
    "driver.quit()\n"
   ]
  }
 ],
 "metadata": {
  "kernelspec": {
   "display_name": "Python 3",
   "language": "python",
   "name": "python3"
  },
  "language_info": {
   "codemirror_mode": {
    "name": "ipython",
    "version": 3
   },
   "file_extension": ".py",
   "mimetype": "text/x-python",
   "name": "python",
   "nbconvert_exporter": "python",
   "pygments_lexer": "ipython3",
   "version": "3.9.6"
  }
 },
 "nbformat": 4,
 "nbformat_minor": 2
}
